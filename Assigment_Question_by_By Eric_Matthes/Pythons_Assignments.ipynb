{
  "nbformat": 4,
  "nbformat_minor": 0,
  "metadata": {
    "colab": {
      "provenance": [],
      "authorship_tag": "ABX9TyMaCTPLSkAHzBlTB2Ih1S8c",
      "include_colab_link": true
    },
    "kernelspec": {
      "name": "python3",
      "display_name": "Python 3"
    },
    "language_info": {
      "name": "python"
    }
  },
  "cells": [
    {
      "cell_type": "markdown",
      "metadata": {
        "id": "view-in-github",
        "colab_type": "text"
      },
      "source": [
        "<a href=\"https://colab.research.google.com/github/Shehbaz-Niazi/ATM-for-NewCoaders/blob/main/Assigment_Question_by_By%20Eric_Matthes/Pythons_Assignments.ipynb\" target=\"_parent\"><img src=\"https://colab.research.google.com/assets/colab-badge.svg\" alt=\"Open In Colab\"/></a>"
      ]
    },
    {
      "cell_type": "markdown",
      "source": [
        "# **Python Assignment Question by Eric Matthes Python Crash Course**\n",
        "\n",
        "**Book Link:**\n",
        "https://drive.google.com/file/d/1esncc0gPW2b6C_PrUbbnvKRFdl6tjpKw/view?usp=sharing"
      ],
      "metadata": {
        "id": "Y6_5cpfke-qK"
      }
    },
    {
      "cell_type": "markdown",
      "source": [
        "# **Chapter 1 & 2**\n",
        "## **Hello World Varable and Data Types**"
      ],
      "metadata": {
        "id": "XSOthK0opQsJ"
      }
    },
    {
      "cell_type": "markdown",
      "source": [
        "**Qno 1**"
      ],
      "metadata": {
        "id": "8RkIL2difToY"
      }
    },
    {
      "cell_type": "code",
      "execution_count": null,
      "metadata": {
        "colab": {
          "base_uri": "https://localhost:8080/"
        },
        "id": "gqtlaARHe9sM",
        "outputId": "9f9c4315-385e-4d4e-eb89-9ad9659ccc6e"
      },
      "outputs": [
        {
          "output_type": "stream",
          "name": "stdout",
          "text": [
            "Hello Shehbaz! Would you like to learn some python today\n"
          ]
        }
      ],
      "source": [
        "#  Simple Message: Assign a message to a variable, and then print that message\n",
        "\n",
        "message: str = \"Hello Shehbaz! Would you like to learn some python today\"\n",
        "print(message)"
      ]
    },
    {
      "cell_type": "markdown",
      "source": [
        "**Qno 2**"
      ],
      "metadata": {
        "id": "5PDUkN4wf10M"
      }
    },
    {
      "cell_type": "code",
      "source": [
        "# Simple Messages: Assign a message to a variable,\n",
        "# and print that message. Then change the value of the variable to a new message, and print the new message.\n",
        "\n",
        "message = \"Hello World\"\n",
        "print(message)\n",
        "\n",
        "message = \"Hello Today is python\"\n",
        "print(message)"
      ],
      "metadata": {
        "colab": {
          "base_uri": "https://localhost:8080/"
        },
        "id": "t2Oxw_c8f1TB",
        "outputId": "7beaec7e-4f59-49ab-c75f-a43a8bd0ac15"
      },
      "execution_count": null,
      "outputs": [
        {
          "output_type": "stream",
          "name": "stdout",
          "text": [
            "Hello World\n",
            "Hello Today is python\n"
          ]
        }
      ]
    },
    {
      "cell_type": "markdown",
      "source": [
        "**Qno 3**"
      ],
      "metadata": {
        "id": "gpUFOlneg14k"
      }
    },
    {
      "cell_type": "code",
      "source": [
        "#. Personal Message: Use a variable to represent a person’s name, and print\n",
        "# a message to that person. Your message should be simple, such as, “Hello Eric,\n",
        "# would you like to learn some Python today?”\n",
        "\n",
        "name = \"Eric\"\n",
        "\n",
        "print(f\"Hello {name}!, Would you like to learn some Python today?\")"
      ],
      "metadata": {
        "colab": {
          "base_uri": "https://localhost:8080/"
        },
        "id": "bO3YibOeg1i1",
        "outputId": "556c6f93-e021-403d-b013-2daa751d8bfa"
      },
      "execution_count": null,
      "outputs": [
        {
          "output_type": "stream",
          "name": "stdout",
          "text": [
            "Hello Eric!, Would you like to learn some Python today?\n"
          ]
        }
      ]
    },
    {
      "cell_type": "markdown",
      "source": [
        "**Qno 4**"
      ],
      "metadata": {
        "id": "Uv3gAImThR4_"
      }
    },
    {
      "cell_type": "code",
      "source": [
        "# Name Cases: Use a variable to represent a person’s name, and then print\n",
        "# that person’s name in lowercase, uppercase, and title case.\n",
        "\n",
        "person_name: str = \"shehBaZ nIAzi\"\n",
        "\n",
        "print(person_name.upper())\n",
        "print(person_name.lower())\n",
        "print(person_name.title())\n"
      ],
      "metadata": {
        "colab": {
          "base_uri": "https://localhost:8080/"
        },
        "id": "2JJueUiog04L",
        "outputId": "5d60cdcc-6c8e-40a0-a99a-ce1adb7ef2c0"
      },
      "execution_count": null,
      "outputs": [
        {
          "output_type": "stream",
          "name": "stdout",
          "text": [
            "SHEHBAZ NIAZI\n",
            "shehbaz niazi\n",
            "Shehbaz Niazi\n"
          ]
        }
      ]
    },
    {
      "cell_type": "markdown",
      "source": [
        "**Qno 5**"
      ],
      "metadata": {
        "id": "dPPpA2nThpVm"
      }
    },
    {
      "cell_type": "code",
      "source": [
        "# Famous Quote: Find a quote from a famous person you admire. Print the\n",
        "# quote and the name of its author. Your output should look something like the\n",
        "# following, including the quotation marks:\n",
        "#              Albert Einstein once said, “A person who never made a\n",
        "#              mistake never tried anything new.”\n",
        "\n",
        "\n",
        "\n",
        "print(f\"Shehbaz Niazi once said, \\\"Be patience Rides a Waves\\\"\")"
      ],
      "metadata": {
        "colab": {
          "base_uri": "https://localhost:8080/"
        },
        "id": "YBe6gcfXhoxC",
        "outputId": "bf02bcef-ce62-4234-bbea-67e7cff9f83c"
      },
      "execution_count": null,
      "outputs": [
        {
          "output_type": "stream",
          "name": "stdout",
          "text": [
            "Shehbaz Niazi once said, \"Be patience Rides a Waves\"\n"
          ]
        }
      ]
    },
    {
      "cell_type": "markdown",
      "source": [
        "**Qno 6**"
      ],
      "metadata": {
        "id": "-g9BkB6hiMGK"
      }
    },
    {
      "cell_type": "code",
      "source": [
        "# Famous Quote 2: Repeat Exercise 2-5, but this time, represent the\n",
        "# famous person’s name using a variable called famous_person. Then compose\n",
        "# your message and represent it with a new variable called message. Print your\n",
        "# message\n",
        "\n",
        "famous_person: str = \"Shehbaz Niazi\"\n",
        "quote: str = f\"{famous_person} once said,  Be Patience rides a  waves\"\n",
        "\n",
        "print(quote)"
      ],
      "metadata": {
        "colab": {
          "base_uri": "https://localhost:8080/"
        },
        "id": "HvBjHobmiLZ_",
        "outputId": "17633b35-e122-495f-bb95-8950d0ac6d4a"
      },
      "execution_count": null,
      "outputs": [
        {
          "output_type": "stream",
          "name": "stdout",
          "text": [
            "Shehbaz Niazi once said,  Be Patience rides a  waves\n"
          ]
        }
      ]
    },
    {
      "cell_type": "markdown",
      "source": [
        "**Qno 7**"
      ],
      "metadata": {
        "id": "3j7u22sKji2R"
      }
    },
    {
      "cell_type": "code",
      "source": [
        "# Stripping Names: Use a variable to represent a person’s name, and include\n",
        "# some whitespace characters at the beginning and end of the name. Make sure\n",
        "# you use each character combination, \"\\t\" and \"\\n\", at least once.\n",
        "# Print the name once, so the whitespace around the name is displayed.\n",
        "# Then print the name using each of the three stripping functions, lstrip(),\n",
        "# rstrip(), and strip().\n",
        "\n",
        "person_name: str = \"\\tShehbaz Niazi\\n\"\n",
        "print(f\"Name with white spaces: {person_name}\")\n",
        "print(f\"Using Lstrip: {person_name.lstrip()}\")\n",
        "print(f\"Using Rstrip: {person_name.rstrip()}\")\n",
        "print(f\"Using strip: {person_name.strip()}\")\n",
        "\n"
      ],
      "metadata": {
        "colab": {
          "base_uri": "https://localhost:8080/"
        },
        "id": "NSzVFxs5jiWJ",
        "outputId": "43217d54-9aa4-4852-a081-c442ad72c783"
      },
      "execution_count": null,
      "outputs": [
        {
          "output_type": "stream",
          "name": "stdout",
          "text": [
            "Name with white spaces: \tShehbaz Niazi\n",
            "\n",
            "Using Lstrip: Shehbaz Niazi\n",
            "\n",
            "Using Rstrip: \tShehbaz Niazi\n",
            "Using strip: Shehbaz Niazi\n"
          ]
        }
      ]
    },
    {
      "cell_type": "markdown",
      "source": [
        "**Qno 8**"
      ],
      "metadata": {
        "id": "A-OOxTSElyDe"
      }
    },
    {
      "cell_type": "code",
      "source": [
        "# Number Eight: Write addition, subtraction, multiplication, and division\n",
        "# operations that each result in the number 8. Be sure to enclose your operations\n",
        "# in print() calls to see the results. You should create four lines that look like this:\n",
        "# print(5+3)\n",
        "# Your output should simply be four lines with the number 8 appearing once\n",
        "# on each line.\n",
        "\n",
        "print(4+4)\n",
        "print(16-8)\n",
        "print(2*4)\n",
        "print(16/2)"
      ],
      "metadata": {
        "colab": {
          "base_uri": "https://localhost:8080/"
        },
        "id": "qYOgiA4TlwYE",
        "outputId": "a5bc9e7c-aeb8-4c66-c191-cc3b3fcde792"
      },
      "execution_count": null,
      "outputs": [
        {
          "output_type": "stream",
          "name": "stdout",
          "text": [
            "8\n",
            "8\n",
            "8\n",
            "8.0\n"
          ]
        }
      ]
    },
    {
      "cell_type": "markdown",
      "source": [
        "**Qno 9**"
      ],
      "metadata": {
        "id": "Exd5inUOmcB7"
      }
    },
    {
      "cell_type": "code",
      "source": [
        "#Favorite Number: Use a variable to represent your favorite number. Then,\n",
        "#using that variable, create a message that reveals your favorite number. Print\n",
        "#that message.\n",
        "\n",
        "favourite_number: str = 19\n",
        "print(f\"My favourite number is {favourite_number}\")\n"
      ],
      "metadata": {
        "colab": {
          "base_uri": "https://localhost:8080/"
        },
        "id": "kr8hfpvbmXJ5",
        "outputId": "99a21dde-f472-450f-e0de-545cbd779827"
      },
      "execution_count": null,
      "outputs": [
        {
          "output_type": "stream",
          "name": "stdout",
          "text": [
            "My favourite number is 19\n"
          ]
        }
      ]
    },
    {
      "cell_type": "markdown",
      "source": [
        "**Qno 10**"
      ],
      "metadata": {
        "id": "PXbivxD7nEHV"
      }
    },
    {
      "cell_type": "code",
      "source": [
        "#. Adding Comments: Choose two of the programs you’ve written, and\n",
        "#add at least one comment to each. If you don’t have anything specific to write\n",
        "#because your programs are too simple at this point, just add your name and\n",
        "#the current date at the top of each program file. Then write one sentence\n",
        "#describing what the program does.\n",
        "\n",
        "# print(\"Hello Wolrd\")\n",
        "print(\"Hello World\")"
      ],
      "metadata": {
        "colab": {
          "base_uri": "https://localhost:8080/"
        },
        "id": "9PZGmxK3nDpg",
        "outputId": "01a55e81-1c88-4f9e-8ecb-ce090a2367ef"
      },
      "execution_count": null,
      "outputs": [
        {
          "output_type": "stream",
          "name": "stdout",
          "text": [
            "Hello World\n"
          ]
        }
      ]
    },
    {
      "cell_type": "markdown",
      "source": [
        "**Qno 11**"
      ],
      "metadata": {
        "id": "lG1s1-q8oHyD"
      }
    },
    {
      "cell_type": "code",
      "source": [
        "import this\n",
        "\n",
        "#Try It Yourself\n",
        "#2-11. Zen of Python: Enter import this into a Python terminal session and skim\n",
        "#through the additional principles."
      ],
      "metadata": {
        "id": "19MZogpAoGyz"
      },
      "execution_count": null,
      "outputs": []
    },
    {
      "cell_type": "markdown",
      "source": [
        "# **Start Chapter 3**\n",
        "### **Introducing Lists**"
      ],
      "metadata": {
        "id": "cG_kh2HxpB8r"
      }
    },
    {
      "cell_type": "markdown",
      "source": [
        "**Qno 12**"
      ],
      "metadata": {
        "id": "uhyBcJbpqJrm"
      }
    },
    {
      "cell_type": "code",
      "source": [
        "#Names: Store the names of a few of your friends in a list called names. Print\n",
        "#each person’s name by accessing each element in the list, one at a time.\n",
        "\n",
        "friends_names: list[str] = [\"Haris\", \"Shehbaz\", \"Eric\", \"David\", \"Abubakar\"]\n",
        "print(friends_names[0])\n",
        "print(friends_names[1])\n",
        "print(friends_names[2])\n",
        "print(friends_names[3])\n",
        "print(friends_names[4])"
      ],
      "metadata": {
        "colab": {
          "base_uri": "https://localhost:8080/"
        },
        "id": "hPG3ELgGo5ux",
        "outputId": "45a579b7-cf03-41b9-85f7-d77c7de57651"
      },
      "execution_count": null,
      "outputs": [
        {
          "output_type": "stream",
          "name": "stdout",
          "text": [
            "Haris\n",
            "Shehbaz\n",
            "Eric\n",
            "David\n",
            "Abubakar\n"
          ]
        }
      ]
    },
    {
      "cell_type": "markdown",
      "source": [
        "**Qno 13**"
      ],
      "metadata": {
        "id": "4Pal13uQqMMF"
      }
    },
    {
      "cell_type": "code",
      "source": [
        "# Greetings: Start with the list you used in Exercise 3-1, but instead of just\n",
        "# printing each person’s name, print a message to them. The text of each message should be the same, but each message should be personalized with the\n",
        "# person’s name\n",
        "\n",
        "friends_names: list[str] = [\"Haris\", \"Shehbaz\", \"Eric\", \"David\", \"Abubakar\"]\n",
        "print(f\"Hello {friends_names[0]}! How are you?\")\n",
        "print(f\"Hello {friends_names[1]}! How are you?\")\n",
        "print(f\"Hello {friends_names[2]}! How are you?\")\n",
        "print(f\"Hello {friends_names[3]}! How are you?\")\n",
        "print(f\"Hello {friends_names[4]}! How are you?\")\n"
      ],
      "metadata": {
        "colab": {
          "base_uri": "https://localhost:8080/"
        },
        "id": "7fheGF4dqIhk",
        "outputId": "516c8f3d-63fa-4247-b1e1-1dde1deb3fd2"
      },
      "execution_count": null,
      "outputs": [
        {
          "output_type": "stream",
          "name": "stdout",
          "text": [
            "Hello Haris! How are you?\n",
            "Hello Shehbaz! How are you?\n",
            "Hello Eric! How are you?\n",
            "Hello David! How are you?\n",
            "Hello Abubakar! How are you?\n"
          ]
        }
      ]
    },
    {
      "cell_type": "markdown",
      "source": [
        "**Qno 14**"
      ],
      "metadata": {
        "id": "O78mD8tmqiYE"
      }
    },
    {
      "cell_type": "code",
      "source": [
        "#Your Own List: Think of your favorite mode of transportation, such as a\n",
        "#motorcycle or a car, and make a list that stores several examples. Use your list\n",
        "#to print a series of statements about these items, such as “I would like to own a\n",
        "#Honda motorcycle.”\n",
        "\n",
        "favourite_transport: list[str] = [\"Frotuner GRs\", \"Hilux Roco\", \"Prado TXL\", \"Honda 125\"]\n",
        "print(f\"I would like to own a \\\"{favourite_transport[0]}\\\"\")\n",
        "print(f\"I would like to own a \\\"{favourite_transport[1]}\\\"\")\n",
        "print(f\"I would like to own a \\\"{favourite_transport[2]}\\\"\")\n",
        "print(f\"I would like to own a \\\"{favourite_transport[3]}\\\"\")"
      ],
      "metadata": {
        "colab": {
          "base_uri": "https://localhost:8080/"
        },
        "id": "jIYwQgB9qhoq",
        "outputId": "b6d21bd2-db66-4d96-ea22-7c3298fe487e"
      },
      "execution_count": null,
      "outputs": [
        {
          "output_type": "stream",
          "name": "stdout",
          "text": [
            "I would like to own a \"Frotuner GRs\"\n",
            "I would like to own a \"Hilux Roco\"\n",
            "I would like to own a \"Prado TXL\"\n",
            "I would like to own a \"Honda 125\"\n"
          ]
        }
      ]
    },
    {
      "cell_type": "markdown",
      "source": [
        "**Qno 15, 16, 17, 18**"
      ],
      "metadata": {
        "id": "QTs53dZfr8x8"
      }
    },
    {
      "cell_type": "code",
      "source": [
        "# Qno 15\n",
        "\n",
        "# Guest List: If you could invite anyone, living or deceased, to dinner, who\n",
        "#would you invite? Make a list that includes at least three people you’d like to\n",
        "#invite to dinner. Then use your list to print a message to each person, inviting\n",
        "#them to dinner\n",
        "\n",
        "print(\"\\n\\t Qno 15 \\n\")\n",
        "guest_list: list[str] = [\"Haris\", \"Shehbaz\", \"Eric\", \"Arman\"]\n",
        "print(f\"Dear {guest_list[0]}, I would like to invite you to dinner\")\n",
        "print(f\"Dear {guest_list[1]}, I would like to invite you to dinner\")\n",
        "print(f\"Dear {guest_list[2]}, I would like to invite you to dinner\")\n",
        "print(f\"Dear {guest_list[3]}, I would like to invite you to dinner\")\n",
        "\n",
        "# Qno 16\n",
        "\n",
        "# Changing Guest List: You just heard that one of your guests can’t make the\n",
        "#dinner, so you need to send out a new set of invitations. You’ll have to think of\n",
        "#someone else to invite.\n",
        "# •\t Start with your program from Exercise 3-4. Add a print() call at the end\n",
        "#    of your program stating the name of the guest who can’t make it.\n",
        "# •\t Modify your list, replacing the name of the guest who can’t make it with\n",
        "#    the name of the new person you are inviting.\n",
        "# •\t Print a second set of invitation messages, one for each person who is still\n",
        "#    in your list.\n",
        "\n",
        "print(\"\\n\\t Qno 16\\n \")\n",
        "print(f\"{guest_list[1]} can't make it to dinner\")\n",
        "\n",
        "# replace the name shehbaz with travor\n",
        "guest_list[1] = \"Travor\"\n",
        "\n",
        "print(f\"New invitation for {guest_list[0]}\")\n",
        "print(f\"New invitation for {guest_list[1]}\")\n",
        "print(f\"New invitation for {guest_list[2]}\")\n",
        "print(f\"New invitation for {guest_list[3]}\")\n",
        "\n",
        "# Qno 17\n",
        "\n",
        "# More Guests: You just found a bigger dinner table, so now more space is\n",
        "#available. Think of three more guests to invite to dinner.\n",
        "# •\t Start with your program from Exercise 3-4 or Exercise 3-5. Add a print()\n",
        "#call to the end of your program informing people that you found a bigger\n",
        "#dinner table.\n",
        "# •\t Use insert() to add one new guest to the beginning of your list.\n",
        "# •\t Use insert() to add one new guest to the middle of your list.\n",
        "# •\t Use append() to add one new guest to the end of your list.\n",
        "# •\t Print a new set of invitation messages, one for each person in your list.\n",
        "\n",
        "print(\"\\n\\t Qno 17\\n \")\n",
        "\n",
        "print(\"We found a bigger dinner table\")\n",
        "guest_list.insert(0,\"Franklin\")\n",
        "guest_list.insert(2, \"Diaz\")\n",
        "guest_list.append(\"Tommy\")\n",
        "\n",
        "print(f\"New invitation for {guest_list[0]}\")\n",
        "print(f\"New invitation for {guest_list[1]}\")\n",
        "print(f\"New invitation for {guest_list[2]}\")\n",
        "print(f\"New invitation for {guest_list[3]}\")\n",
        "print(f\"New invitation for {guest_list[4]}\")\n",
        "print(f\"New invitation for {guest_list[5]}\")\n",
        "print(f\"New invitation for {guest_list[6]}\")\n",
        "\n",
        "# Qno 18\n",
        "\n",
        "#Shrinking Guest List: You just found out that your new dinner table won’t\n",
        "#arrive in time for the dinner, and you have space for only two guests.\n",
        "# •\t Start with your program from Exercise 3-6. Add a new line that prints a\n",
        "#message saying that you can invite only two people for dinner.\n",
        "# •\t Use pop() to remove guests from your list one at a time until only two\n",
        "#names remain in your list. Each time you pop a name from your list, print\n",
        "#a message to that person letting them know you’re sorry you can’t invite\n",
        "#them to dinner.\n",
        "# •\t Print a message to each of the two people still on your list, letting them\n",
        "#know they’re still invited.\n",
        "# •\t Use del to remove the last two names from your list, so you have an empty\n",
        "#list. Print your list to make sure you actually have an empty list at the end\n",
        "#of your program.\n",
        "\n",
        "print(\"\\n\\t Qno 18\\n \")\n",
        "\n",
        "print(\"I can invite only two people for dinner Because i didn't get a big dinner table in time\")\n",
        "print(f\"Iam sorry Ican't invite you to dinner: {guest_list.pop()}\")\n",
        "print(f\"Iam sorry Ican't invite you to dinner: {guest_list.pop()}\")\n",
        "print(f\"Iam sorry Ican't invite you to dinner: {guest_list.pop()}\")\n",
        "print(f\"Iam sorry Ican't invite you to dinner: {guest_list.pop()}\")\n",
        "print(f\"Iam sorry Ican't invite you to dinner: {guest_list.pop()}\\n\")\n",
        "\n",
        "print(\"Remianing People\")\n",
        "print(f\"You are still invited and make sure arrive on time: {guest_list[0]}\")\n",
        "print(f\"You are still invited and make sure arrive on time: {guest_list[1]}\")\n",
        "\n",
        "del guest_list[0]\n",
        "del guest_list[0]\n",
        "\n",
        "print(f\"My list is empty at the end of the program. {guest_list}\")"
      ],
      "metadata": {
        "colab": {
          "base_uri": "https://localhost:8080/"
        },
        "id": "YhS7K7gWr8ON",
        "outputId": "c937ca3d-ef1b-496e-9a99-0e5bf603a2e2"
      },
      "execution_count": null,
      "outputs": [
        {
          "output_type": "stream",
          "name": "stdout",
          "text": [
            "\n",
            "\t Qno 15 \n",
            "\n",
            "Dear Haris, I would like to invite you to dinner\n",
            "Dear Shehbaz, I would like to invite you to dinner\n",
            "Dear Eric, I would like to invite you to dinner\n",
            "Dear Arman, I would like to invite you to dinner\n",
            "\n",
            "\t Qno 16\n",
            " \n",
            "Shehbaz can't make it to dinner\n",
            "New invitation for Haris\n",
            "New invitation for Travor\n",
            "New invitation for Eric\n",
            "New invitation for Arman\n",
            "\n",
            "\t Qno 17\n",
            " \n",
            "We found a bigger dinner table\n",
            "New invitation for Franklin\n",
            "New invitation for Haris\n",
            "New invitation for Diaz\n",
            "New invitation for Travor\n",
            "New invitation for Eric\n",
            "New invitation for Arman\n",
            "New invitation for Tommy\n",
            "\n",
            "\t Qno 18\n",
            " \n",
            "I can invite only two people for dinner Because i didn't get a big dinner table in time\n",
            "Iam sorry Ican't invite you to dinner: Tommy\n",
            "Iam sorry Ican't invite you to dinner: Arman\n",
            "Iam sorry Ican't invite you to dinner: Eric\n",
            "Iam sorry Ican't invite you to dinner: Travor\n",
            "Iam sorry Ican't invite you to dinner: Diaz\n",
            "\n",
            "Remianing People\n",
            "You are still invited and make sure arrive on time: Franklin\n",
            "You are still invited and make sure arrive on time: Haris\n",
            "My list is empty at the end of the program. []\n"
          ]
        }
      ]
    },
    {
      "cell_type": "markdown",
      "source": [
        "**Qno 19**"
      ],
      "metadata": {
        "id": "7mChRrwytAEC"
      }
    },
    {
      "cell_type": "code",
      "source": [
        "#3-8. Seeing the World: Think of at least five places in the world you’d like to\n",
        "#visit.\n",
        "#•\t Store the locations in a list. Make sure the list is not in alphabetical order.\n",
        "#•\t Print your list in its original order. Don’t worry about printing the list neatly,\n",
        "#just print it as a raw Python list.\n",
        "#•\t Use sorted() to print your list in alphabetical order without modifying the\n",
        "#actual list.\n",
        "#•\t Show that your list is still in its original order by printing it.\n",
        "#•\t Use sorted() to print your list in reverse alphabetical order without changing the order of the original list.\n",
        "#•\t Show that your list is still in its original order by printing it again.\n",
        "#•\t Use reverse() to change the order of your list. Print the list to show that its\n",
        "#order has changed.\n",
        "#•\t Use reverse() to change the order of your list again. Print the list to show\n",
        "#it’s back to its original order.\n",
        "#•\t Use sort() to change your list so it’s stored in alphabetical order. Print the\n",
        "#list to show that its order has been changed.\n",
        "#•\t Use sort() to change your list so it’s stored in reverse alphabetical order.\n",
        "#Print the list to show that its order has changed.\n",
        "# 3-9. Dinner Guests: Working with one of the programs from Exercises 3-4\n",
        "#through 3-7 (page 42), use len() to print a message indicating the number\n",
        "#of people you are inviting to dinner.\n",
        "# 3-10. Every Function: Think of something you could store in a list. For example,\n",
        "#you could make a list of mountains, rivers, countries, cities, languages, or anything else you’d like. Write a program that creates a list containing these items\n",
        "#and then uses each function introduced in this chapter at least once.\n",
        "\n",
        "location:list[str] = ['Zimbave', 'Karachi', 'America', 'Canada', 'Bankok'];\n",
        "print(location) # print orignal order\n",
        "print(sorted(location)) #printed  list in alphabetical order\n",
        "print(location)  # actuall list still in orignal order\n",
        "print(sorted(location, reverse=True))   #printed list in reverse alphabetical order\n",
        "print(location)  # actuall list still in orignal order\n",
        "location.reverse() #change the order of your list\n",
        "print(location)\n",
        "location.reverse() # change the orignal list again\n",
        "print(location)\n",
        "sort = sorted(location)  # change list and it’s stored in alphabetical order\n",
        "print(sort)\n",
        "sortReverse = sorted(location, reverse=True) # change list and it’s stored in reverse alphabetical order\n",
        "print(sortReverse)\n"
      ],
      "metadata": {
        "id": "-4c-WW_9s-9E",
        "colab": {
          "base_uri": "https://localhost:8080/"
        },
        "outputId": "4ab8db80-bf30-4061-d9a7-26cdc7a959c3"
      },
      "execution_count": null,
      "outputs": [
        {
          "output_type": "stream",
          "name": "stdout",
          "text": [
            "['Zimbave', 'Karachi', 'America', 'Canada', 'Bankok']\n",
            "['America', 'Bankok', 'Canada', 'Karachi', 'Zimbave']\n",
            "['Zimbave', 'Karachi', 'America', 'Canada', 'Bankok']\n",
            "['Zimbave', 'Karachi', 'Canada', 'Bankok', 'America']\n",
            "['Zimbave', 'Karachi', 'America', 'Canada', 'Bankok']\n",
            "['Bankok', 'Canada', 'America', 'Karachi', 'Zimbave']\n",
            "['Zimbave', 'Karachi', 'America', 'Canada', 'Bankok']\n",
            "['America', 'Bankok', 'Canada', 'Karachi', 'Zimbave']\n",
            "['Zimbave', 'Karachi', 'Canada', 'Bankok', 'America']\n"
          ]
        }
      ]
    },
    {
      "cell_type": "markdown",
      "source": [
        "**Qno 20**"
      ],
      "metadata": {
        "id": "5vSwNPRGTd_Q"
      }
    },
    {
      "cell_type": "code",
      "source": [
        "#Dinner Guests: Working with one of the programs from Exercises 3-4\n",
        "#through 3-7 (page 42), use len() to print a message indicating the number\n",
        "#of people you are inviting to dinner.\n",
        "\n",
        "\n",
        "print(f\"Iam inviting {len(guest_list)} peoples for dinner\")"
      ],
      "metadata": {
        "colab": {
          "base_uri": "https://localhost:8080/"
        },
        "id": "ZgFRzPNSTX_U",
        "outputId": "b089e3d7-fc4b-423f-e28d-4106ae811705"
      },
      "execution_count": null,
      "outputs": [
        {
          "output_type": "stream",
          "name": "stdout",
          "text": [
            "Iam inviting 0 peoples for dinner\n"
          ]
        }
      ]
    },
    {
      "cell_type": "markdown",
      "source": [
        "**Qno 21**"
      ],
      "metadata": {
        "id": "inOSsopkUIdR"
      }
    },
    {
      "cell_type": "code",
      "source": [
        "#Every Function: Think of something you could store in a list. For example,\n",
        "#you could make a list of mountains, rivers, countries, cities, languages, or anything else you’d like. Write a program that creates a list containing these items\n",
        "#and then uses each function introduced in this chapter at least once.\n",
        "\n",
        "mountains: list[str] = [\"Everest\", \"K2\", \"Kangchenjunga\", \"Lhotse\", \"Makalu\"]\n",
        "mountains.append('Nanga Parbat')\n",
        "print(mountains)\n",
        "\n",
        "mountains.insert(3,\"Rakaposhi\")\n",
        "print(mountains)\n",
        "\n",
        "mountains.remove(\"Makalu\")\n",
        "print(mountains)\n",
        "\n",
        "mountains.pop()\n",
        "print(mountains)\n",
        "\n",
        "count_evert = mountains.count(\"\")\n",
        "print(count_evert)\n",
        "\n",
        "print(len(mountains))\n",
        "\n"
      ],
      "metadata": {
        "colab": {
          "base_uri": "https://localhost:8080/"
        },
        "id": "nMrLlujyUFKP",
        "outputId": "0e70e24a-8bcf-4849-c44c-d763dbe45158"
      },
      "execution_count": null,
      "outputs": [
        {
          "output_type": "stream",
          "name": "stdout",
          "text": [
            "['Everest', 'K2', 'Kangchenjunga', 'Lhotse', 'Makalu', 'Nanga Parbat']\n",
            "['Everest', 'K2', 'Kangchenjunga', 'Rakaposhi', 'Lhotse', 'Makalu', 'Nanga Parbat']\n",
            "['Everest', 'K2', 'Kangchenjunga', 'Rakaposhi', 'Lhotse', 'Nanga Parbat']\n",
            "['Everest', 'K2', 'Kangchenjunga', 'Rakaposhi', 'Lhotse']\n",
            "0\n",
            "5\n"
          ]
        }
      ]
    },
    {
      "cell_type": "markdown",
      "source": [
        "**Qno 20**"
      ],
      "metadata": {
        "id": "XsRfGXxOvtn1"
      }
    },
    {
      "cell_type": "code",
      "source": [
        "#. Intentional Error: If you haven’t received an index error in one of your\n",
        "# programs yet, try to make one happen. Change an index in one of your programs to produce an index error.\n",
        "# Make sure you correct the error before closing the program\n",
        "\n",
        "index_error: list[int] = [1,2,3,4]\n",
        "print(index_error[4]) # produce index error (list index out of range)\n",
        "\n",
        "print(index_error[3]) # remove error\n"
      ],
      "metadata": {
        "colab": {
          "base_uri": "https://localhost:8080/"
        },
        "id": "gAvy12jKvsM6",
        "outputId": "62fd0b64-b241-40fb-b8ae-5e2bb3cacaac"
      },
      "execution_count": null,
      "outputs": [
        {
          "output_type": "stream",
          "name": "stdout",
          "text": [
            "4\n"
          ]
        }
      ]
    },
    {
      "cell_type": "markdown",
      "source": [
        "# **Chapter No 4**"
      ],
      "metadata": {
        "id": "xsD0MqDfzFHD"
      }
    },
    {
      "cell_type": "markdown",
      "source": [
        "# **Working with Lists**"
      ],
      "metadata": {
        "id": "yxT7CQexzTKe"
      }
    },
    {
      "cell_type": "markdown",
      "source": [
        "**Qno 21**"
      ],
      "metadata": {
        "id": "nHrxML9KzYbk"
      }
    },
    {
      "cell_type": "code",
      "source": [
        "# Pizzas: Think of at least three kinds of your favorite pizza. Store these\n",
        "#pizza names in a list, and then use a for loop to print the name of each pizza.\n",
        "#    •\t Modify your for loop to print a sentence using the name of the pizza\n",
        "#instead of printing just the name of the pizza. For each pizza you should\n",
        "#have one line of output containing a simple statement like I like pepperoni\n",
        "#pizza.\n",
        "#    •\t Add a line at the end of your program, outside the for loop, that states\n",
        "#how much you like pizza. The output should consist of three or more lines\n",
        "#about the kinds of pizza you like and then an additional sentence, such as\n",
        "#I really love pizza!\n",
        "\n",
        "pizzas: list[str] = [\"Chicken Tikka\", \"Chicken Fajita\", \"Special Supreme\", \"Cheese Lover\"]\n",
        "for pizza in pizzas:\n",
        "  print(pizza)\n",
        "\n",
        "print(\"\\n\")\n",
        "\n",
        "for pizza in pizzas:\n",
        "  print(f\"I like {pizza}\")\n",
        "\n",
        "print(\"\\nPizza is my favorite fast food!\")\n",
        "print(\"I can eat it any time — breakfast, lunch, or dinner.\")\n",
        "print(\"Especially with extra cheese... yum!\\n\")\n",
        "print(\"I really love pizza\")"
      ],
      "metadata": {
        "colab": {
          "base_uri": "https://localhost:8080/"
        },
        "id": "02kNxgwHy9-f",
        "outputId": "878e4c26-ee17-442d-b9db-6cbb655df771"
      },
      "execution_count": null,
      "outputs": [
        {
          "output_type": "stream",
          "name": "stdout",
          "text": [
            "Chicken Tikka\n",
            "Chicken Fajita\n",
            "Special Supreme\n",
            "Cheese Lover\n",
            "\n",
            "\n",
            "I like Chicken Tikka\n",
            "I like Chicken Fajita\n",
            "I like Special Supreme\n",
            "I like Cheese Lover\n",
            "\n",
            "Pizza is my favorite fast food!\n",
            "I can eat it any time — breakfast, lunch, or dinner.\n",
            "Especially with extra cheese... yum!\n",
            "\n",
            "I really love pizza\n"
          ]
        }
      ]
    },
    {
      "cell_type": "markdown",
      "source": [
        "**Qno 22**"
      ],
      "metadata": {
        "id": "uhlbAfAYz_0b"
      }
    },
    {
      "cell_type": "code",
      "source": [
        "#Animals: Think of at least three different animals that have a common characteristic.\n",
        "#Store the names of these animals in a list, and then use a for loop to\n",
        "#print out the name of each animal.\n",
        "# •\t Modify your program to print a statement about each animal, such as\n",
        "#A dog would make a great pet.\n",
        "# •\t Add a line at the end of your program stating what these animals have in\n",
        "#common. You could print a sentence such as Any of these animals would\n",
        "#make a great pet!\n",
        "\n",
        "animals: list[str] = [\"Cat\", \"Dog\", \"Cow\", \"Goat\"]\n",
        "for animal in animals:\n",
        "  print(animal)\n",
        "\n",
        "print(\"\\n\")\n",
        "\n",
        "for animal in animals:\n",
        "  print(f\"{animal} has four legs\")\n",
        "\n",
        "print(\"\\n\")\n",
        "\n",
        "for animal in animals:\n",
        "  print(f\"{animal} is a domestic animal\")\n",
        "\n",
        "print(\"\\nDog is a great pet!\")"
      ],
      "metadata": {
        "colab": {
          "base_uri": "https://localhost:8080/"
        },
        "id": "aRO3GYMez-P7",
        "outputId": "7934e422-79dc-418c-e2af-5655307f7bc8"
      },
      "execution_count": null,
      "outputs": [
        {
          "output_type": "stream",
          "name": "stdout",
          "text": [
            "Cat\n",
            "Dog\n",
            "Cow\n",
            "Goat\n",
            "\n",
            "\n",
            "Cat has four legs\n",
            "Dog has four legs\n",
            "Cow has four legs\n",
            "Goat has four legs\n",
            "\n",
            "\n",
            "Cat is a domestic animal\n",
            "Dog is a domestic animal\n",
            "Cow is a domestic animal\n",
            "Goat is a domestic animal\n",
            "\n",
            "Dog is a great pet!\n"
          ]
        }
      ]
    },
    {
      "cell_type": "markdown",
      "source": [
        "**Qno 23**"
      ],
      "metadata": {
        "id": "J6W1xoSa0X9v"
      }
    },
    {
      "cell_type": "code",
      "source": [
        "#Counting to Twenty: Use a for loop to print the numbers from 1 to 20, inclusive.\n",
        "\n",
        "for number in range(1, 21):\n",
        "  print(number)"
      ],
      "metadata": {
        "colab": {
          "base_uri": "https://localhost:8080/"
        },
        "id": "cQaWtE9l0W0n",
        "outputId": "883ce0bb-6c5c-42aa-cc5e-eed6bf4a448a"
      },
      "execution_count": null,
      "outputs": [
        {
          "output_type": "stream",
          "name": "stdout",
          "text": [
            "1\n",
            "2\n",
            "3\n",
            "4\n",
            "5\n",
            "6\n",
            "7\n",
            "8\n",
            "9\n",
            "10\n",
            "11\n",
            "12\n",
            "13\n",
            "14\n",
            "15\n",
            "16\n",
            "17\n",
            "18\n",
            "19\n",
            "20\n"
          ]
        }
      ]
    },
    {
      "cell_type": "markdown",
      "source": [
        "**Qno 24**"
      ],
      "metadata": {
        "id": "pysk-MTU075M"
      }
    },
    {
      "cell_type": "code",
      "source": [
        "#One Million: Make a list of the numbers from one to one million, and then\n",
        "#use a for loop to print the numbers. (If the output is taking too long, stop it by\n",
        "#pressing ctrl-C or by closing the output window.\n",
        "\n",
        "for number in range(1, 1000001):\n",
        "  print(number)"
      ],
      "metadata": {
        "id": "BHY3QPN505_G"
      },
      "execution_count": null,
      "outputs": []
    },
    {
      "cell_type": "markdown",
      "source": [
        "**Qno 25**"
      ],
      "metadata": {
        "id": "5sqouS3s1xN8"
      }
    },
    {
      "cell_type": "code",
      "source": [
        "# Summing a Million: Make a list of the numbers from one to one million,\n",
        "#and then use min() and max() to make sure your list actually starts at one and\n",
        "#ends at one million. Also, use the sum() function to see how quickly Python can\n",
        "#add a million numbers.\n",
        "\n",
        "numbers: list[int] = list(range(1,1000001))\n",
        "print(min(numbers))\n",
        "print(max(numbers))\n",
        "print(sum(numbers))\n"
      ],
      "metadata": {
        "colab": {
          "base_uri": "https://localhost:8080/"
        },
        "id": "0yq6pBHd2C8P",
        "outputId": "9840578d-5ad3-4afe-ea7f-aa3d7be4fbfc"
      },
      "execution_count": null,
      "outputs": [
        {
          "output_type": "stream",
          "name": "stdout",
          "text": [
            "1\n",
            "1000000\n",
            "500000500000\n"
          ]
        }
      ]
    },
    {
      "cell_type": "markdown",
      "source": [
        "**Qno 26**"
      ],
      "metadata": {
        "id": "l1TcbktM10DX"
      }
    },
    {
      "cell_type": "code",
      "source": [
        "#Odd Numbers: Use the third argument of the range() function to make a\n",
        "#list of the odd numbers from 1 to 20. Use a for loop to print each number.\n",
        "\n",
        "for number in range(1, 21,2):\n",
        "  print(number)\n"
      ],
      "metadata": {
        "id": "uB1QUpl62Dtw",
        "colab": {
          "base_uri": "https://localhost:8080/"
        },
        "outputId": "1121647e-f095-4cd4-8bd5-3a6d5c0a4152"
      },
      "execution_count": null,
      "outputs": [
        {
          "output_type": "stream",
          "name": "stdout",
          "text": [
            "1\n",
            "3\n",
            "5\n",
            "7\n",
            "9\n",
            "11\n",
            "13\n",
            "15\n",
            "17\n",
            "19\n"
          ]
        }
      ]
    },
    {
      "cell_type": "markdown",
      "source": [
        "**Qno 27**"
      ],
      "metadata": {
        "id": "M6lz7lp-10pb"
      }
    },
    {
      "cell_type": "code",
      "source": [
        "#. Threes: Make a list of the multiples of 3 from 3 to 30. Use a for loop to\n",
        "#print the numbers in your list.\n",
        "\n",
        "for number in range(3,31,3):\n",
        "  print(number)\n"
      ],
      "metadata": {
        "id": "uXTtYhbl2EUX",
        "colab": {
          "base_uri": "https://localhost:8080/"
        },
        "outputId": "3201899a-a461-4113-c823-184bb27536bc"
      },
      "execution_count": null,
      "outputs": [
        {
          "output_type": "stream",
          "name": "stdout",
          "text": [
            "3\n",
            "6\n",
            "9\n",
            "12\n",
            "15\n",
            "18\n",
            "21\n",
            "24\n",
            "27\n",
            "30\n"
          ]
        }
      ]
    },
    {
      "cell_type": "markdown",
      "source": [
        "**Qno 28**"
      ],
      "metadata": {
        "id": "H-DW5fwt14V5"
      }
    },
    {
      "cell_type": "code",
      "source": [
        "#. Cubes: A number raised to the third power is called a cube. For example,\n",
        "#the cube of 2 is written as 2**3 in Python. Make a list of the first 10 cubes (that\n",
        "#is, the cube of each integer from 1 through 10), and use a for loop to print out\n",
        "#the value of each cube.\n",
        "\n",
        "for number in range(1,11):\n",
        "  print(number **3)\n"
      ],
      "metadata": {
        "id": "NLsp4Ggj2EqB",
        "colab": {
          "base_uri": "https://localhost:8080/"
        },
        "outputId": "e4bb85ed-1fa6-4240-eda9-51980495019a"
      },
      "execution_count": null,
      "outputs": [
        {
          "output_type": "stream",
          "name": "stdout",
          "text": [
            "1\n",
            "8\n",
            "27\n",
            "64\n",
            "125\n",
            "216\n",
            "343\n",
            "512\n",
            "729\n",
            "1000\n"
          ]
        }
      ]
    },
    {
      "cell_type": "markdown",
      "source": [
        "**Qno 29**"
      ],
      "metadata": {
        "id": "GcD1b8fC15cn"
      }
    },
    {
      "cell_type": "code",
      "source": [
        "#. Cube Comprehension: Use a list comprehension to generate a list of the\n",
        "#first 10 cubes.\n",
        "\n",
        "[cubes **3 for cubes in range(1,11)]"
      ],
      "metadata": {
        "id": "x4x0Yib02E5R",
        "colab": {
          "base_uri": "https://localhost:8080/"
        },
        "outputId": "d604d31a-5c50-4855-e24d-5a8ee5a8b69d"
      },
      "execution_count": null,
      "outputs": [
        {
          "output_type": "execute_result",
          "data": {
            "text/plain": [
              "[1, 8, 27, 64, 125, 216, 343, 512, 729, 1000]"
            ]
          },
          "metadata": {},
          "execution_count": 36
        }
      ]
    },
    {
      "cell_type": "markdown",
      "source": [
        "**Qno 30**"
      ],
      "metadata": {
        "id": "dBIxsEJM16yi"
      }
    },
    {
      "cell_type": "code",
      "source": [],
      "metadata": {
        "id": "lIkyYdoS2FIs"
      },
      "execution_count": null,
      "outputs": []
    },
    {
      "cell_type": "markdown",
      "source": [
        "**Qno 31**"
      ],
      "metadata": {
        "id": "U0I69G2f18Rn"
      }
    },
    {
      "cell_type": "code",
      "source": [],
      "metadata": {
        "id": "CAUTQYXz2FWk"
      },
      "execution_count": null,
      "outputs": []
    },
    {
      "cell_type": "markdown",
      "source": [
        "**Qno 32**"
      ],
      "metadata": {
        "id": "ujRIMpNh19Th"
      }
    },
    {
      "cell_type": "code",
      "source": [],
      "metadata": {
        "id": "KXoYdDCt2Fjf"
      },
      "execution_count": null,
      "outputs": []
    },
    {
      "cell_type": "markdown",
      "source": [
        "**Qno 33**"
      ],
      "metadata": {
        "id": "80etgI0E1-U1"
      }
    },
    {
      "cell_type": "code",
      "source": [],
      "metadata": {
        "id": "4X8E5M_K2Fvm"
      },
      "execution_count": null,
      "outputs": []
    },
    {
      "cell_type": "markdown",
      "source": [
        "**Qno 34**"
      ],
      "metadata": {
        "id": "cnzfuKgX1_zo"
      }
    },
    {
      "cell_type": "code",
      "source": [],
      "metadata": {
        "id": "CEIa5P3Y2F74"
      },
      "execution_count": null,
      "outputs": []
    },
    {
      "cell_type": "markdown",
      "source": [
        "**Qno 35**"
      ],
      "metadata": {
        "id": "F_9ueAeP2BBV"
      }
    },
    {
      "cell_type": "code",
      "source": [],
      "metadata": {
        "id": "Eww-onb42GMw"
      },
      "execution_count": null,
      "outputs": []
    }
  ]
}