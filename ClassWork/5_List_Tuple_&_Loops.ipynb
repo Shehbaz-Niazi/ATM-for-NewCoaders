{
  "nbformat": 4,
  "nbformat_minor": 0,
  "metadata": {
    "colab": {
      "provenance": [],
      "authorship_tag": "ABX9TyOARG3eUpHvaBMcsdFEZnqp",
      "include_colab_link": true
    },
    "kernelspec": {
      "name": "python3",
      "display_name": "Python 3"
    },
    "language_info": {
      "name": "python"
    }
  },
  "cells": [
    {
      "cell_type": "markdown",
      "metadata": {
        "id": "view-in-github",
        "colab_type": "text"
      },
      "source": [
        "<a href=\"https://colab.research.google.com/github/Shehbaz-Niazi/ATM-for-NewCoaders/blob/main/ClassWork/5_List_Tuple_%26_Loops.ipynb\" target=\"_parent\"><img src=\"https://colab.research.google.com/assets/colab-badge.svg\" alt=\"Open In Colab\"/></a>"
      ]
    },
    {
      "cell_type": "markdown",
      "source": [
        "# **List**"
      ],
      "metadata": {
        "id": "kzdQb5o66aBT"
      }
    },
    {
      "cell_type": "code",
      "execution_count": null,
      "metadata": {
        "colab": {
          "base_uri": "https://localhost:8080/"
        },
        "id": "K_mFIGpC4WQe",
        "outputId": "0d98ad61-201f-4c24-e00f-1f7000eb6701"
      },
      "outputs": [
        {
          "output_type": "stream",
          "name": "stdout",
          "text": [
            "['shehbaz', 'arman', 'david', 'alyx star']\n"
          ]
        }
      ],
      "source": [
        "names: list[str] = [\"shehbaz\", \"arman\", \"david\", \"alyx star\"]\n",
        "print(names)"
      ]
    },
    {
      "cell_type": "markdown",
      "source": [
        "**For loop**"
      ],
      "metadata": {
        "id": "YvRt9-2T6wM4"
      }
    },
    {
      "cell_type": "code",
      "source": [
        "names: list[str] = [\"shehbaz\", \"arman\", \"david\", \"alyx star\"]\n",
        "for name in names:\n",
        "  print(name)"
      ],
      "metadata": {
        "colab": {
          "base_uri": "https://localhost:8080/"
        },
        "id": "S6FJsni46tm5",
        "outputId": "ad195527-6b7f-46d4-a8da-a3df90be90c4"
      },
      "execution_count": null,
      "outputs": [
        {
          "output_type": "stream",
          "name": "stdout",
          "text": [
            "shehbaz\n",
            "arman\n",
            "david\n",
            "alyx star\n"
          ]
        }
      ]
    },
    {
      "cell_type": "markdown",
      "source": [
        "**While Loop**"
      ],
      "metadata": {
        "id": "8EhAciBt7Qht"
      }
    },
    {
      "cell_type": "code",
      "source": [
        "names: list[str] = [\"shehbaz\", \"arman\", \"david\", \"alyx star\"]\n",
        "\n",
        "i: int = 0\n",
        "\n",
        "while i<len(names):\n",
        "  print(names[i])\n",
        "  i+=1"
      ],
      "metadata": {
        "colab": {
          "base_uri": "https://localhost:8080/"
        },
        "id": "LhrNogz162mD",
        "outputId": "685e39cc-aa2e-4b64-b760-a4125f24cbac"
      },
      "execution_count": null,
      "outputs": [
        {
          "output_type": "stream",
          "name": "stdout",
          "text": [
            "shehbaz\n",
            "arman\n",
            "david\n",
            "alyx star\n"
          ]
        }
      ]
    },
    {
      "cell_type": "code",
      "source": [
        "names: list[str] = [\"shehbaz\", \"arman\", \"david\", \"alyx star\"]\n",
        "\n",
        "for name in names:\n",
        "  print(f\"Hello {name}, How i can help you? \") # we can use f-string inside the loop body"
      ],
      "metadata": {
        "colab": {
          "base_uri": "https://localhost:8080/"
        },
        "id": "E2x5bjap7U-E",
        "outputId": "50a02f1f-a7dd-4442-ab87-eb2244cfb354"
      },
      "execution_count": null,
      "outputs": [
        {
          "output_type": "stream",
          "name": "stdout",
          "text": [
            "Hello shehbaz, How i can help you? \n",
            "Hello arman, How i can help you? \n",
            "Hello david, How i can help you? \n",
            "Hello alyx star, How i can help you? \n"
          ]
        }
      ]
    },
    {
      "cell_type": "code",
      "source": [
        "names: list[str] = [\"shehbaz\", \"arman\", \"david\", \"alyx star\"]\n",
        "\n",
        "for name in names:\n",
        "  print(f\"Welcome Dear {name.title()}\") # we can use any kind of list methode inside of loop body\n",
        "  print(\"In Agentic AI python series\\n\")"
      ],
      "metadata": {
        "colab": {
          "base_uri": "https://localhost:8080/"
        },
        "id": "rwIqTHdN7r05",
        "outputId": "88b38e64-1d38-4c39-c0c9-8ad00b5599d1"
      },
      "execution_count": null,
      "outputs": [
        {
          "output_type": "stream",
          "name": "stdout",
          "text": [
            "Welcome Dear Shehbaz\n",
            "In Agentic AI python series\n",
            "\n",
            "Welcome Dear Arman\n",
            "In Agentic AI python series\n",
            "\n",
            "Welcome Dear David\n",
            "In Agentic AI python series\n",
            "\n",
            "Welcome Dear Alyx Star\n",
            "In Agentic AI python series\n",
            "\n"
          ]
        }
      ]
    },
    {
      "cell_type": "code",
      "source": [
        "names: list[str] = [\"shehbaz\", \"arman\", \"david\", \"alyx star\"]\n",
        "\n",
        "for name in names:\n",
        "  print(f\"Welcome Dear {name.title()}\") # we can use any kind of list methode inside of loop body\n",
        "  print(\"In Agentic AI python series\\n\")\n",
        "\n",
        "print(\"Thankyou for joining us!\") # this line will be show at the end of the loop body because this line is outside the body of the loop"
      ],
      "metadata": {
        "colab": {
          "base_uri": "https://localhost:8080/"
        },
        "id": "UKyYwXsi8DwC",
        "outputId": "bf44f76f-7363-43ab-dd57-03e86b11d361"
      },
      "execution_count": null,
      "outputs": [
        {
          "output_type": "stream",
          "name": "stdout",
          "text": [
            "Welcome Dear Shehbaz\n",
            "In Agentic AI python series\n",
            "\n",
            "Welcome Dear Arman\n",
            "In Agentic AI python series\n",
            "\n",
            "Welcome Dear David\n",
            "In Agentic AI python series\n",
            "\n",
            "Welcome Dear Alyx Star\n",
            "In Agentic AI python series\n",
            "\n",
            "Thankyou for joining us!\n"
          ]
        }
      ]
    },
    {
      "cell_type": "code",
      "source": [
        "names: list[str] = [\"shehbaz\", \"arman\", \"david\", \"alyx star\"]\n",
        "\n",
        "for name in names[-2:]: # we can use slicing with loop\n",
        "  print(f\"Welcome Dear: {name.title()}\")\n",
        "\n",
        "print(\"\\nThankyou for run this code\")"
      ],
      "metadata": {
        "colab": {
          "base_uri": "https://localhost:8080/"
        },
        "id": "GPGmDfk581VT",
        "outputId": "2646928d-dbd9-4427-c7b6-8c69c5efee36"
      },
      "execution_count": null,
      "outputs": [
        {
          "output_type": "stream",
          "name": "stdout",
          "text": [
            "Welcome Dear: David\n",
            "Welcome Dear: Alyx Star\n",
            "\n",
            "Thankyou for run this code\n"
          ]
        }
      ]
    },
    {
      "cell_type": "code",
      "source": [
        "names: list[str] = [\"shehbaz\", \"arman\", \"david\", \"alyx star\"]\n",
        "\n",
        "for name in names[::-1]: # we can change print orders using slicing\n",
        "  print(f\"Welcome Dear: {name.upper()}\")\n",
        "print(\"\\nThankyou for run this code\")"
      ],
      "metadata": {
        "colab": {
          "base_uri": "https://localhost:8080/"
        },
        "id": "ungTDGVu9grh",
        "outputId": "d4c08509-f9d6-49fa-f67a-4d571db3e9f5"
      },
      "execution_count": null,
      "outputs": [
        {
          "output_type": "stream",
          "name": "stdout",
          "text": [
            "Welcome Dear: ALYX STAR\n",
            "Welcome Dear: DAVID\n",
            "Welcome Dear: ARMAN\n",
            "Welcome Dear: SHEHBAZ\n",
            "\n",
            "Thankyou for run this code\n"
          ]
        }
      ]
    },
    {
      "cell_type": "markdown",
      "source": [
        "# **Tuple**"
      ],
      "metadata": {
        "id": "7_ou-LsFjm5_"
      }
    },
    {
      "cell_type": "code",
      "source": [
        "dataBase: list[tuple[str,str]] = [(\"shehbaz\",\"123\"),(\"david\",\"456\"),(\"adam\",\"789\")]\n",
        "\n",
        "print(dataBase)\n",
        "print(dataBase[0]) # ('shehbaz', '123')\n",
        "print(dataBase[0][0])  # shehbaz"
      ],
      "metadata": {
        "id": "7XhfgCm8-GeT",
        "colab": {
          "base_uri": "https://localhost:8080/"
        },
        "outputId": "e62a7954-955b-4d6a-c33e-2ff374dbbe8b"
      },
      "execution_count": null,
      "outputs": [
        {
          "output_type": "stream",
          "name": "stdout",
          "text": [
            "[('shehbaz', '123'), ('david', '456'), ('adam', '789')]\n",
            "('shehbaz', '123')\n",
            "shehbaz\n"
          ]
        }
      ]
    },
    {
      "cell_type": "code",
      "source": [
        "dataBase: list[tuple[str,str]] = [(\"shehbaz\",\"123\"),(\"david\",\"456\"),(\"adam\",\"789\")]\n",
        "\n",
        "for users in dataBase:  # we can use loop with tuple\n",
        "  print(users)"
      ],
      "metadata": {
        "colab": {
          "base_uri": "https://localhost:8080/"
        },
        "id": "H4Lau6qYkM3a",
        "outputId": "086e57a8-1ffe-4f13-e0a2-d2d8202b3d5b"
      },
      "execution_count": null,
      "outputs": [
        {
          "output_type": "stream",
          "name": "stdout",
          "text": [
            "('shehbaz', '123')\n",
            "('david', '456')\n",
            "('adam', '789')\n"
          ]
        }
      ]
    },
    {
      "cell_type": "code",
      "source": [
        "dataBase: list[tuple[str,str]] = [(\"shehbaz\",\"123\"),(\"david\",\"456\"),(\"adam\",\"789\")]\n",
        "\n",
        "for users in dataBase:\n",
        "  username,password = users\n",
        "  print(f\"UserName: \", username)\n",
        "  print(f\"Password: \", password,\"\\n\")"
      ],
      "metadata": {
        "colab": {
          "base_uri": "https://localhost:8080/"
        },
        "id": "ErEQXOD8kYCl",
        "outputId": "1e02ea26-3ef5-4c99-cb28-ca366ebb03b5"
      },
      "execution_count": null,
      "outputs": [
        {
          "output_type": "stream",
          "name": "stdout",
          "text": [
            "UserName:  shehbaz\n",
            "Password:  123 \n",
            "\n",
            "UserName:  david\n",
            "Password:  456 \n",
            "\n",
            "UserName:  adam\n",
            "Password:  789 \n",
            "\n"
          ]
        }
      ]
    },
    {
      "cell_type": "code",
      "source": [
        "dataBase: list[tuple[str,str]] = [(\"shehbaz\",\"123\"),(\"david\",\"456\"),(\"adam\",\"789\")]\n",
        "\n",
        "input_user: str = input(\"Enter your Name: \")\n",
        "input_password: str = input(\"Enter your Password: \")\n",
        "\n",
        "for users in dataBase:\n",
        "  username, password = users\n",
        "  if input_user == username and input_password == password:\n",
        "    print(f\"Welcome Dear {username}! You are logged in\")\n",
        "    break;\n",
        "else:\n",
        "  print(\"Invalid Credentials\")"
      ],
      "metadata": {
        "colab": {
          "base_uri": "https://localhost:8080/"
        },
        "id": "OhgwkbPek66g",
        "outputId": "619dfe4c-c4e8-4618-cacf-9d13b36481ae"
      },
      "execution_count": null,
      "outputs": [
        {
          "output_type": "stream",
          "name": "stdout",
          "text": [
            "Enter your Name: shehbaz\n",
            "Enter your Password: 123\n",
            "Welcome Dear shehbaz! You are logged in\n"
          ]
        }
      ]
    },
    {
      "cell_type": "code",
      "source": [
        "dataBase: list[tuple[str,str]] = [(\"shehbaz\",\"123\"),(\"david\",\"456\"),(\"adam\",\"789\")]\n",
        "\n",
        "input_user: str = input(\"Enter your Name: \")\n",
        "input_password: str = input(\"Enter your Password: \")\n",
        "\n",
        "for users in dataBase:\n",
        "  username, password = users\n",
        "  if input_user == username and input_password == password:\n",
        "    print(f\"Welcome Dear {username}! You are logged in\")\n",
        "    break;\n",
        "else:\n",
        "  print(\"Invalid Credentials\")"
      ],
      "metadata": {
        "colab": {
          "base_uri": "https://localhost:8080/"
        },
        "id": "jSFcyMvbmex0",
        "outputId": "d41f6a99-3b8f-4d45-e3e9-f40bea3ec5d9"
      },
      "execution_count": null,
      "outputs": [
        {
          "output_type": "stream",
          "name": "stdout",
          "text": [
            "Enter your Name: david\n",
            "Enter your Password: 123\n",
            "Invalid Credentials\n"
          ]
        }
      ]
    },
    {
      "cell_type": "code",
      "source": [
        "names: list[str] = [\"shehbaz\", \"david\", \"adam\", \"tommy\"]\n",
        "\n",
        "for name in names:\n",
        "  print(f\"Hello {name.title()}\")\n",
        "else:\n",
        "  print(\"\\nHello World!\")"
      ],
      "metadata": {
        "colab": {
          "base_uri": "https://localhost:8080/"
        },
        "id": "cAcT0Adfmkne",
        "outputId": "f22d53b4-bf12-4ee3-c528-aeed29b6266f"
      },
      "execution_count": null,
      "outputs": [
        {
          "output_type": "stream",
          "name": "stdout",
          "text": [
            "Hello Shehbaz\n",
            "Hello David\n",
            "Hello Adam\n",
            "Hello Tommy\n",
            "\n",
            "Hello World!\n"
          ]
        }
      ]
    },
    {
      "cell_type": "code",
      "source": [
        "names: list[str] = [\"shehbaz\", \"david\", \"adam\", \"tommy\"]\n",
        "\n",
        "for name in names:\n",
        "  print(f\"Hello {name.title()}\")\n",
        "  break;\n",
        "else:\n",
        "  print(\"\\nHello World!\")"
      ],
      "metadata": {
        "colab": {
          "base_uri": "https://localhost:8080/"
        },
        "id": "Ou9TLEepnLmb",
        "outputId": "b98d21a8-47f7-4f6a-e4c6-7edfde8fb36c"
      },
      "execution_count": null,
      "outputs": [
        {
          "output_type": "stream",
          "name": "stdout",
          "text": [
            "Hello Shehbaz\n"
          ]
        }
      ]
    },
    {
      "cell_type": "code",
      "source": [
        "names: list[str] = [\"shehbaz\", \"david\", \"adam\", \"tommy\"]\n",
        "\n",
        "for name in names:\n",
        "print(name)  # An error will be shown when you omit the indentation, indentation is required in the loop."
      ],
      "metadata": {
        "colab": {
          "base_uri": "https://localhost:8080/",
          "height": 109
        },
        "id": "NyS8rt-snUAD",
        "outputId": "91ba67c7-bb51-4a4f-fc1c-992470384756"
      },
      "execution_count": null,
      "outputs": [
        {
          "output_type": "error",
          "ename": "IndentationError",
          "evalue": "expected an indented block after 'for' statement on line 3 (ipython-input-11-3158592466.py, line 4)",
          "traceback": [
            "\u001b[0;36m  File \u001b[0;32m\"/tmp/ipython-input-11-3158592466.py\"\u001b[0;36m, line \u001b[0;32m4\u001b[0m\n\u001b[0;31m    print(name)  # An error will be shown when you omit the indentation, indentation is required in the loop.\u001b[0m\n\u001b[0m    ^\u001b[0m\n\u001b[0;31mIndentationError\u001b[0m\u001b[0;31m:\u001b[0m expected an indented block after 'for' statement on line 3\n"
          ]
        }
      ]
    },
    {
      "cell_type": "code",
      "source": [
        "names: list[str] = [\"shehbaz\", \"david\", \"adam\", \"tommy\"]\n",
        "\n",
        "for name in names:\n",
        "  print(name)"
      ],
      "metadata": {
        "colab": {
          "base_uri": "https://localhost:8080/"
        },
        "id": "xOuDGAQBpieN",
        "outputId": "b52b1a45-5f6c-40fa-a4cf-56360c49a6d2"
      },
      "execution_count": null,
      "outputs": [
        {
          "output_type": "stream",
          "name": "stdout",
          "text": [
            "shehbaz\n",
            "david\n",
            "adam\n",
            "tommy\n"
          ]
        }
      ]
    },
    {
      "cell_type": "code",
      "source": [
        "names: list[str] = [\"shehbaz\", \"david\", \"adam\", \"tommy\"]\n",
        "\n",
        "for name in names:\n",
        "  print(f\"Hello: {name.title()} you are my best friend\")\n",
        "\n",
        "print(f\"\\nHello: {name.upper()} how was your day?\")"
      ],
      "metadata": {
        "colab": {
          "base_uri": "https://localhost:8080/"
        },
        "id": "M6nAZ7fPqGJi",
        "outputId": "77a2b54a-7406-4b71-e013-76f8fd6a4efc"
      },
      "execution_count": null,
      "outputs": [
        {
          "output_type": "stream",
          "name": "stdout",
          "text": [
            "Hello: Shehbaz you are my best friend\n",
            "Hello: David you are my best friend\n",
            "Hello: Adam you are my best friend\n",
            "Hello: Tommy you are my best friend\n",
            "\n",
            "Hello: TOMMY how was your day?\n"
          ]
        }
      ]
    },
    {
      "cell_type": "code",
      "source": [
        "names: list[str] = [\"shehbaz\", \"david\", \"adam\", \"tommy\"]\n",
        "\n",
        "for name in names:\n",
        "  print(f\"Hello: {name.title()} that was a great trick!\")\n",
        "  print(f\"I can't wait to see your next trick, {name.title()}.\\n\")\n",
        "\n",
        "print(f\"Thank you everyone, that was a great magic show!\")"
      ],
      "metadata": {
        "colab": {
          "base_uri": "https://localhost:8080/"
        },
        "id": "vEv9T_aOq58I",
        "outputId": "8a429159-ff30-46f6-e9f0-577b8654c24a"
      },
      "execution_count": null,
      "outputs": [
        {
          "output_type": "stream",
          "name": "stdout",
          "text": [
            "Hello: Shehbaz that was a great trick!\n",
            "I can't wait to see your next trick, Shehbaz.\n",
            "\n",
            "Hello: David that was a great trick!\n",
            "I can't wait to see your next trick, David.\n",
            "\n",
            "Hello: Adam that was a great trick!\n",
            "I can't wait to see your next trick, Adam.\n",
            "\n",
            "Hello: Tommy that was a great trick!\n",
            "I can't wait to see your next trick, Tommy.\n",
            "\n",
            "Thank you everyone, that was a great magic show!\n"
          ]
        }
      ]
    },
    {
      "cell_type": "code",
      "source": [
        "names: list[str] = [\"shehbaz\", \"david\", \"adam\", \"tommy\"]\n",
        "\n",
        "for i in range(len(names)):\n",
        "  print(i, names[i])"
      ],
      "metadata": {
        "colab": {
          "base_uri": "https://localhost:8080/"
        },
        "id": "MY2YyKf8ruB1",
        "outputId": "c6f8497a-ddd4-48bb-8500-1af681063d96"
      },
      "execution_count": null,
      "outputs": [
        {
          "output_type": "stream",
          "name": "stdout",
          "text": [
            "0 shehbaz\n",
            "1 david\n",
            "2 adam\n",
            "3 tommy\n"
          ]
        }
      ]
    },
    {
      "cell_type": "markdown",
      "source": [
        "# **Enumerate**"
      ],
      "metadata": {
        "id": "_nECh1BDrPvd"
      }
    },
    {
      "cell_type": "code",
      "source": [
        "names: list[str] = [\"shehbaz\", \"david\", \"adam\", \"tommy\"]\n",
        "\n",
        "list(enumerate(names))"
      ],
      "metadata": {
        "colab": {
          "base_uri": "https://localhost:8080/"
        },
        "id": "yy-8REF0rMwT",
        "outputId": "ff2817fa-e83f-41f0-8b3a-f56f6edc77dc"
      },
      "execution_count": null,
      "outputs": [
        {
          "output_type": "execute_result",
          "data": {
            "text/plain": [
              "[(0, 'shehbaz'), (1, 'david'), (2, 'adam'), (3, 'tommy')]"
            ]
          },
          "metadata": {},
          "execution_count": 20
        }
      ]
    },
    {
      "cell_type": "code",
      "source": [
        "for i,name in enumerate(names):\n",
        "  print(i, name)"
      ],
      "metadata": {
        "colab": {
          "base_uri": "https://localhost:8080/"
        },
        "id": "rrobUOTcsSup",
        "outputId": "973af02a-13b1-41ce-9d15-a7c43bfd6080"
      },
      "execution_count": null,
      "outputs": [
        {
          "output_type": "stream",
          "name": "stdout",
          "text": [
            "0 shehbaz\n",
            "1 david\n",
            "2 adam\n",
            "3 tommy\n"
          ]
        }
      ]
    },
    {
      "cell_type": "code",
      "source": [
        "for i,name in enumerate(names, start=1):\n",
        "  print(i, name)"
      ],
      "metadata": {
        "colab": {
          "base_uri": "https://localhost:8080/"
        },
        "id": "7_iyGeAossCG",
        "outputId": "ac10ab75-0df8-4d3c-e6b9-b587e06d9871"
      },
      "execution_count": null,
      "outputs": [
        {
          "output_type": "stream",
          "name": "stdout",
          "text": [
            "1 shehbaz\n",
            "2 david\n",
            "3 adam\n",
            "4 tommy\n"
          ]
        }
      ]
    },
    {
      "cell_type": "markdown",
      "source": [
        "# **Number With Loop**"
      ],
      "metadata": {
        "id": "0pFZIXm9tdoz"
      }
    },
    {
      "cell_type": "markdown",
      "source": [
        "**Range**"
      ],
      "metadata": {
        "id": "xZBUgB9cnFzu"
      }
    },
    {
      "cell_type": "code",
      "source": [
        "range(10)"
      ],
      "metadata": {
        "id": "rMq3yy8rtdPP",
        "colab": {
          "base_uri": "https://localhost:8080/"
        },
        "outputId": "8ad97d81-63d8-4bbd-ad9a-967836104744"
      },
      "execution_count": null,
      "outputs": [
        {
          "output_type": "execute_result",
          "data": {
            "text/plain": [
              "range(0, 10)"
            ]
          },
          "metadata": {},
          "execution_count": 1
        }
      ]
    },
    {
      "cell_type": "code",
      "source": [
        "list(range(10))"
      ],
      "metadata": {
        "colab": {
          "base_uri": "https://localhost:8080/"
        },
        "id": "xN5IQaiZnFPT",
        "outputId": "6854f948-5ba3-425b-b4e6-c967e65dde5b"
      },
      "execution_count": null,
      "outputs": [
        {
          "output_type": "execute_result",
          "data": {
            "text/plain": [
              "[0, 1, 2, 3, 4, 5, 6, 7, 8, 9]"
            ]
          },
          "metadata": {},
          "execution_count": 2
        }
      ]
    },
    {
      "cell_type": "code",
      "source": [
        "list(range(2,11))"
      ],
      "metadata": {
        "colab": {
          "base_uri": "https://localhost:8080/"
        },
        "id": "eyVBb0fcnLha",
        "outputId": "cc7b9072-20e3-4bce-98df-714057062b3e"
      },
      "execution_count": null,
      "outputs": [
        {
          "output_type": "execute_result",
          "data": {
            "text/plain": [
              "[2, 3, 4, 5, 6, 7, 8, 9, 10]"
            ]
          },
          "metadata": {},
          "execution_count": 4
        }
      ]
    },
    {
      "cell_type": "code",
      "source": [
        "list(range(2,21,2))\n"
      ],
      "metadata": {
        "colab": {
          "base_uri": "https://localhost:8080/"
        },
        "id": "lzwOBPvNnP0o",
        "outputId": "3f3e90de-9488-430a-a5fa-b148cefa4462"
      },
      "execution_count": null,
      "outputs": [
        {
          "output_type": "execute_result",
          "data": {
            "text/plain": [
              "[2, 4, 6, 8, 10, 12, 14, 16, 18, 20]"
            ]
          },
          "metadata": {},
          "execution_count": 5
        }
      ]
    },
    {
      "cell_type": "code",
      "source": [
        "for num in range(1,11):\n",
        "  print(num)"
      ],
      "metadata": {
        "colab": {
          "base_uri": "https://localhost:8080/"
        },
        "id": "rV1DblR5nUBq",
        "outputId": "44a7e484-722f-44cc-e301-75e1279b09ed"
      },
      "execution_count": null,
      "outputs": [
        {
          "output_type": "stream",
          "name": "stdout",
          "text": [
            "1\n",
            "2\n",
            "3\n",
            "4\n",
            "5\n",
            "6\n",
            "7\n",
            "8\n",
            "9\n",
            "10\n"
          ]
        }
      ]
    },
    {
      "cell_type": "code",
      "source": [
        "for num in range(1,11):\n",
        "  print(f\"{2} X {num} = {num *2}\")"
      ],
      "metadata": {
        "colab": {
          "base_uri": "https://localhost:8080/"
        },
        "id": "ALDJ7Tehna6B",
        "outputId": "ad83d981-3f33-4700-a926-9ecb85504c55"
      },
      "execution_count": null,
      "outputs": [
        {
          "output_type": "stream",
          "name": "stdout",
          "text": [
            "2 X 1 = 2\n",
            "2 X 2 = 4\n",
            "2 X 3 = 6\n",
            "2 X 4 = 8\n",
            "2 X 5 = 10\n",
            "2 X 6 = 12\n",
            "2 X 7 = 14\n",
            "2 X 8 = 16\n",
            "2 X 9 = 18\n",
            "2 X 10 = 20\n"
          ]
        }
      ]
    },
    {
      "cell_type": "code",
      "source": [
        "squares:list[int] = []\n",
        "\n",
        "for num in range(1,11):\n",
        "  square = num ** 2\n",
        "  squares.append(square)\n",
        "print(squares)"
      ],
      "metadata": {
        "colab": {
          "base_uri": "https://localhost:8080/"
        },
        "id": "wsLspnz0nvBs",
        "outputId": "036965e3-4060-424e-c486-ee7b4fd13a91"
      },
      "execution_count": null,
      "outputs": [
        {
          "output_type": "stream",
          "name": "stdout",
          "text": [
            "[1, 4, 9, 16, 25, 36, 49, 64, 81, 100]\n"
          ]
        }
      ]
    },
    {
      "cell_type": "markdown",
      "source": [
        "# **List comprehensive**"
      ],
      "metadata": {
        "id": "tevmclaZolAB"
      }
    },
    {
      "cell_type": "code",
      "source": [
        "list(range(10))"
      ],
      "metadata": {
        "colab": {
          "base_uri": "https://localhost:8080/"
        },
        "id": "65mjyYx4oi12",
        "outputId": "b2d5a521-7f16-4517-84bd-dee089f1f36d"
      },
      "execution_count": null,
      "outputs": [
        {
          "output_type": "execute_result",
          "data": {
            "text/plain": [
              "[0, 1, 2, 3, 4, 5, 6, 7, 8, 9]"
            ]
          },
          "metadata": {},
          "execution_count": 10
        }
      ]
    },
    {
      "cell_type": "code",
      "source": [
        "for num in range(10):\n",
        "  print(num)\n",
        "\n",
        "\n",
        "[num for num in range(10)] # list comprehansive"
      ],
      "metadata": {
        "colab": {
          "base_uri": "https://localhost:8080/"
        },
        "id": "8tRdIFM3orhY",
        "outputId": "299c83e8-1ba6-464d-a042-5b8a847c4bde"
      },
      "execution_count": null,
      "outputs": [
        {
          "output_type": "stream",
          "name": "stdout",
          "text": [
            "0\n",
            "1\n",
            "2\n",
            "3\n",
            "4\n",
            "5\n",
            "6\n",
            "7\n",
            "8\n",
            "9\n"
          ]
        },
        {
          "output_type": "execute_result",
          "data": {
            "text/plain": [
              "[0, 1, 2, 3, 4, 5, 6, 7, 8, 9]"
            ]
          },
          "metadata": {},
          "execution_count": 17
        }
      ]
    },
    {
      "cell_type": "code",
      "source": [
        "[ num**2 for num in range(1,11)]"
      ],
      "metadata": {
        "colab": {
          "base_uri": "https://localhost:8080/"
        },
        "id": "Asr7kHsNo7dv",
        "outputId": "36f10de3-9818-419d-a677-1176a8ac6150"
      },
      "execution_count": null,
      "outputs": [
        {
          "output_type": "execute_result",
          "data": {
            "text/plain": [
              "[1, 4, 9, 16, 25, 36, 49, 64, 81, 100]"
            ]
          },
          "metadata": {},
          "execution_count": 18
        }
      ]
    },
    {
      "cell_type": "markdown",
      "source": [
        "# **Shallow Copy & Deep Copy**"
      ],
      "metadata": {
        "id": "pYLw0EympQvi"
      }
    },
    {
      "cell_type": "code",
      "source": [
        "my_foods = ['pizza', 'falafel', 'carrot cake']\n",
        "\n",
        "myNew_food = my_foods\n",
        "print(f\"Before Shallow Copy:\")\n",
        "print(my_foods)\n",
        "print(myNew_food)\n",
        "\n",
        "myNew_food[0] = \"ice cream\"   # shallow copy\n",
        "\n",
        "print(f\"\\nAfter Shallow Copy:\")\n",
        "print(my_foods)\n",
        "print(myNew_food)"
      ],
      "metadata": {
        "colab": {
          "base_uri": "https://localhost:8080/"
        },
        "id": "RgcCwzBNpNpL",
        "outputId": "0397bc0e-6965-48a6-baea-ec5ff4f3df4e"
      },
      "execution_count": null,
      "outputs": [
        {
          "output_type": "stream",
          "name": "stdout",
          "text": [
            "Before Shallow Copy:\n",
            "['pizza', 'falafel', 'carrot cake']\n",
            "['pizza', 'falafel', 'carrot cake']\n",
            "\n",
            "After Shallow Copy:\n",
            "['ice cream', 'falafel', 'carrot cake']\n",
            "['ice cream', 'falafel', 'carrot cake']\n"
          ]
        }
      ]
    },
    {
      "cell_type": "code",
      "source": [
        "my_foods = ['pizza', 'falafel', 'carrot cake']\n",
        "\n",
        "myNew_food = my_foods.copy()\n",
        "print(f\"Before Deep Copy:\")\n",
        "print(my_foods)\n",
        "print(myNew_food)\n",
        "\n",
        "myNew_food[0] = \"ice cream\"   # Deep copy\n",
        "\n",
        "print(f\"\\nAfter Deep Copy:\")\n",
        "print(my_foods)\n",
        "print(myNew_food)"
      ],
      "metadata": {
        "colab": {
          "base_uri": "https://localhost:8080/"
        },
        "id": "kqTQsGOgp7sv",
        "outputId": "42f8cc6a-9f38-4aa5-bd94-0e07910f2ac4"
      },
      "execution_count": null,
      "outputs": [
        {
          "output_type": "stream",
          "name": "stdout",
          "text": [
            "Before Deep Copy:\n",
            "['pizza', 'falafel', 'carrot cake']\n",
            "['pizza', 'falafel', 'carrot cake']\n",
            "\n",
            "After Deep Copy:\n",
            "['pizza', 'falafel', 'carrot cake']\n",
            "['ice cream', 'falafel', 'carrot cake']\n"
          ]
        }
      ]
    },
    {
      "cell_type": "markdown",
      "source": [
        "# **Tuple**"
      ],
      "metadata": {
        "id": "ovDXmfqrqIVy"
      }
    },
    {
      "cell_type": "code",
      "source": [
        "names: tuple[str] = ('A','B','C','D')\n",
        "print(names)"
      ],
      "metadata": {
        "colab": {
          "base_uri": "https://localhost:8080/"
        },
        "id": "1PihWPIoqHpZ",
        "outputId": "09bc1a43-4450-468e-b648-72c0541d44ab"
      },
      "execution_count": null,
      "outputs": [
        {
          "output_type": "stream",
          "name": "stdout",
          "text": [
            "('A', 'B', 'C', 'D')\n"
          ]
        }
      ]
    },
    {
      "cell_type": "code",
      "source": [
        "names: tuple[str] = ('A','B','C','D')\n",
        "print(names[0])\n",
        "print(names[0:2])"
      ],
      "metadata": {
        "colab": {
          "base_uri": "https://localhost:8080/"
        },
        "id": "rZUO4eq6qcJ7",
        "outputId": "16c2e459-ac72-4316-ecf2-bc9e8e9c3076"
      },
      "execution_count": null,
      "outputs": [
        {
          "output_type": "stream",
          "name": "stdout",
          "text": [
            "A\n",
            "('A', 'B')\n"
          ]
        }
      ]
    },
    {
      "cell_type": "code",
      "source": [
        "names: tuple[str] = ('A','B','C','D')\n",
        "print(names[0])\n",
        "names[0] = \"Pakistan\"   # we cannot change tuple elements its shows error"
      ],
      "metadata": {
        "id": "V0AWAtspqihm"
      },
      "execution_count": null,
      "outputs": []
    },
    {
      "cell_type": "code",
      "source": [
        "names: tuple[str] = ('A','B','C','D')\n",
        "names:tuple[str] = ('E','F','G','H')\n",
        "print(names)"
      ],
      "metadata": {
        "colab": {
          "base_uri": "https://localhost:8080/"
        },
        "id": "VGXSEQXXqsJR",
        "outputId": "4b1e08ab-31df-4be8-ec58-acdf92c34d30"
      },
      "execution_count": null,
      "outputs": [
        {
          "output_type": "stream",
          "name": "stdout",
          "text": [
            "('E', 'F', 'G', 'H')\n"
          ]
        }
      ]
    },
    {
      "cell_type": "code",
      "source": [
        "from typing import Any\n",
        "data:tuple[Any] = (1,2,['Shehbaz','David'], True)\n",
        "print(data)\n",
        "print(data[0])\n",
        "print(data[2])\n",
        "print(data[2][0])\n",
        "data[2].append(\"Aris\")\n",
        "print(data)"
      ],
      "metadata": {
        "colab": {
          "base_uri": "https://localhost:8080/"
        },
        "id": "N-MTT20ErqmV",
        "outputId": "c70bed7a-a6ff-4cef-b9b7-ae4efcd3862d"
      },
      "execution_count": null,
      "outputs": [
        {
          "output_type": "stream",
          "name": "stdout",
          "text": [
            "(1, 2, ['Shehbaz', 'David'], True)\n",
            "1\n",
            "['Shehbaz', 'David']\n",
            "Shehbaz\n",
            "(1, 2, ['Shehbaz', 'David', 'Aris'], True)\n"
          ]
        }
      ]
    },
    {
      "cell_type": "code",
      "source": [
        "a  = input(\"abc\") # return string type\n",
        "print(type(a))\n",
        "print(a)"
      ],
      "metadata": {
        "colab": {
          "base_uri": "https://localhost:8080/"
        },
        "id": "VuM6qSqAsTSG",
        "outputId": "6fd432fa-72f3-4ea5-b923-ca5e48957c18"
      },
      "execution_count": null,
      "outputs": [
        {
          "output_type": "stream",
          "name": "stdout",
          "text": [
            "abc123\n",
            "<class 'str'>\n",
            "123\n"
          ]
        }
      ]
    },
    {
      "cell_type": "code",
      "source": [
        "sorted([7,8,1,3,9,10])"
      ],
      "metadata": {
        "colab": {
          "base_uri": "https://localhost:8080/"
        },
        "id": "zKRSzJ4Osa4L",
        "outputId": "f5a55a58-85f0-45a2-ff43-5788b5b55519"
      },
      "execution_count": null,
      "outputs": [
        {
          "output_type": "execute_result",
          "data": {
            "text/plain": [
              "[1, 3, 7, 8, 9, 10]"
            ]
          },
          "metadata": {},
          "execution_count": 45
        }
      ]
    }
  ]
}